{
 "cells": [
  {
   "cell_type": "markdown",
   "metadata": {},
   "source": [
    "# Softmax exercise\n",
    "\n",
    "*Complete and hand in this completed worksheet (including its outputs and any supporting code outside of the worksheet) with your assignment submission. For more details see the [assignments page](http://vision.stanford.edu/teaching/cs231n/assignments.html) on the course website.*\n",
    "\n",
    "This exercise is analogous to the SVM exercise. You will:\n",
    "\n",
    "- implement a fully-vectorized **loss function** for the Softmax classifier\n",
    "- implement the fully-vectorized expression for its **analytic gradient**\n",
    "- **check your implementation** with numerical gradient\n",
    "- use a validation set to **tune the learning rate and regularization** strength\n",
    "- **optimize** the loss function with **SGD**\n",
    "- **visualize** the final learned weights\n"
   ]
  },
  {
   "cell_type": "code",
   "execution_count": 1,
   "metadata": {
    "collapsed": false
   },
   "outputs": [],
   "source": [
    "import random\n",
    "import numpy as np\n",
    "from cs231n.data_utils import load_CIFAR10\n",
    "import matplotlib.pyplot as plt\n",
    "%matplotlib inline\n",
    "plt.rcParams['figure.figsize'] = (10.0, 8.0) # set default size of plots\n",
    "plt.rcParams['image.interpolation'] = 'nearest'\n",
    "plt.rcParams['image.cmap'] = 'gray'\n",
    "\n",
    "# for auto-reloading extenrnal modules\n",
    "# see http://stackoverflow.com/questions/1907993/autoreload-of-modules-in-ipython\n",
    "%load_ext autoreload\n",
    "%autoreload 2"
   ]
  },
  {
   "cell_type": "code",
   "execution_count": 3,
   "metadata": {
    "collapsed": false
   },
   "outputs": [
    {
     "name": "stdout",
     "output_type": "stream",
     "text": [
      "Train data shape:  (49000, 3073)\n",
      "Train labels shape:  (49000,)\n",
      "Validation data shape:  (1000, 3073)\n",
      "Validation labels shape:  (1000,)\n",
      "Test data shape:  (1000, 3073)\n",
      "Test labels shape:  (1000,)\n",
      "dev data shape:  (500, 3073)\n",
      "dev labels shape:  (500,)\n"
     ]
    }
   ],
   "source": [
    "def get_CIFAR10_data(num_training=49000, num_validation=1000, num_test=1000, num_dev=500):\n",
    "  \"\"\"\n",
    "  Load the CIFAR-10 dataset from disk and perform preprocessing to prepare\n",
    "  it for the linear classifier. These are the same steps as we used for the\n",
    "  SVM, but condensed to a single function.  \n",
    "  \"\"\"\n",
    "  # Load the raw CIFAR-10 data\n",
    "  cifar10_dir = 'cs231n/datasets/cifar-10-batches-py'\n",
    "  X_train, y_train, X_test, y_test = load_CIFAR10(cifar10_dir)\n",
    "  \n",
    "  # subsample the data\n",
    "  mask = range(num_training, num_training + num_validation)\n",
    "  X_val = X_train[mask]\n",
    "  y_val = y_train[mask]\n",
    "  mask = range(num_training)\n",
    "  X_train = X_train[mask]\n",
    "  y_train = y_train[mask]\n",
    "  mask = range(num_test)\n",
    "  X_test = X_test[mask]\n",
    "  y_test = y_test[mask]\n",
    "  mask = np.random.choice(num_training, num_dev, replace=False)\n",
    "  X_dev = X_train[mask]\n",
    "  y_dev = y_train[mask]\n",
    "  \n",
    "  # Preprocessing: reshape the image data into rows\n",
    "  X_train = np.reshape(X_train, (X_train.shape[0], -1))\n",
    "  X_val = np.reshape(X_val, (X_val.shape[0], -1))\n",
    "  X_test = np.reshape(X_test, (X_test.shape[0], -1))\n",
    "  X_dev = np.reshape(X_dev, (X_dev.shape[0], -1))\n",
    "  \n",
    "  # Normalize the data: subtract the mean image\n",
    "  mean_image = np.mean(X_train, axis = 0)\n",
    "  X_train -= mean_image\n",
    "  X_val -= mean_image\n",
    "  X_test -= mean_image\n",
    "  X_dev -= mean_image\n",
    "  \n",
    "  # add bias dimension and transform into columns\n",
    "  X_train = np.hstack([X_train, np.ones((X_train.shape[0], 1))])\n",
    "  X_val = np.hstack([X_val, np.ones((X_val.shape[0], 1))])\n",
    "  X_test = np.hstack([X_test, np.ones((X_test.shape[0], 1))])\n",
    "  X_dev = np.hstack([X_dev, np.ones((X_dev.shape[0], 1))])\n",
    "  \n",
    "  return X_train, y_train, X_val, y_val, X_test, y_test, X_dev, y_dev\n",
    "\n",
    "\n",
    "# Invoke the above function to get our data.\n",
    "X_train, y_train, X_val, y_val, X_test, y_test, X_dev, y_dev = get_CIFAR10_data()\n",
    "print 'Train data shape: ', X_train.shape\n",
    "print 'Train labels shape: ', y_train.shape\n",
    "print 'Validation data shape: ', X_val.shape\n",
    "print 'Validation labels shape: ', y_val.shape\n",
    "print 'Test data shape: ', X_test.shape\n",
    "print 'Test labels shape: ', y_test.shape\n",
    "print 'dev data shape: ', X_dev.shape\n",
    "print 'dev labels shape: ', y_dev.shape"
   ]
  },
  {
   "cell_type": "markdown",
   "metadata": {},
   "source": [
    "## Softmax Classifier\n",
    "\n",
    "Your code for this section will all be written inside **cs231n/classifiers/softmax.py**. \n"
   ]
  },
  {
   "cell_type": "code",
   "execution_count": 4,
   "metadata": {
    "collapsed": false
   },
   "outputs": [
    {
     "name": "stdout",
     "output_type": "stream",
     "text": [
      "loss: 2.374788\n",
      "sanity check: 2.302585\n"
     ]
    }
   ],
   "source": [
    "# First implement the naive softmax loss function with nested loops.\n",
    "# Open the file cs231n/classifiers/softmax.py and implement the\n",
    "# softmax_loss_naive function.\n",
    "\n",
    "from cs231n.classifiers.softmax import softmax_loss_naive\n",
    "import time\n",
    "\n",
    "# Generate a random softmax weight matrix and use it to compute the loss.\n",
    "W = np.random.randn(3073, 10) * 0.0001\n",
    "loss, grad = softmax_loss_naive(W, X_dev, y_dev, 0.0)\n",
    "\n",
    "# As a rough sanity check, our loss should be something close to -log(0.1).\n",
    "print 'loss: %f' % loss\n",
    "print 'sanity check: %f' % (-np.log(0.1))"
   ]
  },
  {
   "cell_type": "markdown",
   "metadata": {},
   "source": [
    "## Inline Question 1:\n",
    "Why do we expect our loss to be close to -log(0.1)? Explain briefly.**\n",
    "\n",
    "**Your answer:** *Fill this in*\n"
   ]
  },
  {
   "cell_type": "code",
   "execution_count": 6,
   "metadata": {
    "collapsed": false
   },
   "outputs": [
    {
     "name": "stdout",
     "output_type": "stream",
     "text": [
      "numerical: -0.451189 analytic: -0.451189, relative error: 6.943485e-08\n",
      "numerical: 1.535422 analytic: 1.535422, relative error: 4.390380e-08\n",
      "numerical: -0.375039 analytic: -0.375039, relative error: 6.811561e-08\n",
      "numerical: 1.081891 analytic: 1.081890, relative error: 5.186854e-08\n",
      "numerical: 0.436384 analytic: 0.436384, relative error: 1.403926e-07\n",
      "numerical: -0.259789 analytic: -0.259789, relative error: 7.947549e-08\n",
      "numerical: -1.150775 analytic: -1.150775, relative error: 1.177644e-08\n",
      "numerical: 1.165341 analytic: 1.165341, relative error: 9.464609e-08\n",
      "numerical: -4.297266 analytic: -4.297267, relative error: 1.159201e-09\n",
      "numerical: -0.363981 analytic: -0.363981, relative error: 1.840307e-08\n",
      "numerical: 1.003326 analytic: 1.003326, relative error: 1.379690e-08\n",
      "numerical: -1.507360 analytic: -1.507360, relative error: 1.646697e-08\n",
      "numerical: 1.524699 analytic: 1.524699, relative error: 4.116107e-08\n",
      "numerical: -0.784657 analytic: -0.784657, relative error: 7.376777e-08\n",
      "numerical: -0.493285 analytic: -0.493285, relative error: 1.265563e-07\n",
      "numerical: 0.410994 analytic: 0.410994, relative error: 9.769566e-08\n",
      "numerical: -0.310007 analytic: -0.310007, relative error: 7.511262e-09\n",
      "numerical: -2.653769 analytic: -2.653769, relative error: 7.354862e-10\n",
      "numerical: 0.047324 analytic: 0.047323, relative error: 6.902141e-07\n",
      "numerical: 2.838537 analytic: 2.838537, relative error: 2.376323e-08\n"
     ]
    }
   ],
   "source": [
    "# Complete the implementation of softmax_loss_naive and implement a (naive)\n",
    "# version of the gradient that uses nested loops.\n",
    "loss, grad = softmax_loss_naive(W, X_dev, y_dev, 0.0)\n",
    "\n",
    "# As we did for the SVM, use numeric gradient checking as a debugging tool.\n",
    "# The numeric gradient should be close to the analytic gradient.\n",
    "from cs231n.gradient_check import grad_check_sparse\n",
    "f = lambda w: softmax_loss_naive(w, X_dev, y_dev, 0.0)[0]\n",
    "grad_numerical = grad_check_sparse(f, W, grad, 10)\n",
    "\n",
    "# similar to SVM case, do another gradient check with regularization\n",
    "loss, grad = softmax_loss_naive(W, X_dev, y_dev, 1e2)\n",
    "f = lambda w: softmax_loss_naive(w, X_dev, y_dev, 1e2)[0]\n",
    "grad_numerical = grad_check_sparse(f, W, grad, 10)"
   ]
  },
  {
   "cell_type": "code",
   "execution_count": 10,
   "metadata": {
    "collapsed": false
   },
   "outputs": [
    {
     "name": "stdout",
     "output_type": "stream",
     "text": [
      "naive loss: 2.374788e+00 computed in 0.173705s\n",
      "vectorized loss: 2.374788e+00 computed in 0.007906s\n",
      "Loss difference: 0.000000\n",
      "Gradient difference: 0.000000\n"
     ]
    }
   ],
   "source": [
    "# Now that we have a naive implementation of the softmax loss function and its gradient,\n",
    "# implement a vectorized version in softmax_loss_vectorized.\n",
    "# The two versions should compute the same results, but the vectorized version should be\n",
    "# much faster.\n",
    "tic = time.time()\n",
    "loss_naive, grad_naive = softmax_loss_naive(W, X_dev, y_dev, 0.00001)\n",
    "toc = time.time()\n",
    "print 'naive loss: %e computed in %fs' % (loss_naive, toc - tic)\n",
    "\n",
    "from cs231n.classifiers.softmax import softmax_loss_vectorized\n",
    "tic = time.time()\n",
    "loss_vectorized, grad_vectorized = softmax_loss_vectorized(W, X_dev, y_dev, 0.00001)\n",
    "toc = time.time()\n",
    "print 'vectorized loss: %e computed in %fs' % (loss_vectorized, toc - tic)\n",
    "\n",
    "# As we did for the SVM, we use the Frobenius norm to compare the two versions\n",
    "# of the gradient.\n",
    "grad_difference = np.linalg.norm(grad_naive - grad_vectorized, ord='fro')\n",
    "print 'Loss difference: %f' % np.abs(loss_naive - loss_vectorized)\n",
    "print 'Gradient difference: %f' % grad_difference"
   ]
  },
  {
   "cell_type": "code",
   "execution_count": 15,
   "metadata": {
    "collapsed": false
   },
   "outputs": [
    {
     "name": "stdout",
     "output_type": "stream",
     "text": [
      "lr 1.000000e-07 reg 1.000000e+04 train accuracy: 0.355469 val accuracy: 0.365000\n",
      "lr 1.000000e-07 reg 2.000000e+04 train accuracy: 0.357612 val accuracy: 0.362000\n",
      "lr 1.000000e-07 reg 3.000000e+04 train accuracy: 0.342612 val accuracy: 0.356000\n",
      "lr 1.000000e-07 reg 5.000000e+04 train accuracy: 0.332510 val accuracy: 0.344000\n",
      "lr 1.000000e-07 reg 6.000000e+04 train accuracy: 0.324122 val accuracy: 0.343000\n",
      "lr 1.000000e-07 reg 7.000000e+04 train accuracy: 0.318592 val accuracy: 0.338000\n",
      "lr 1.000000e-07 reg 8.000000e+04 train accuracy: 0.314816 val accuracy: 0.334000\n",
      "lr 1.000000e-07 reg 1.000000e+05 train accuracy: 0.314531 val accuracy: 0.325000\n",
      "lr 2.000000e-07 reg 1.000000e+04 train accuracy: 0.376224 val accuracy: 0.382000\n",
      "lr 2.000000e-07 reg 2.000000e+04 train accuracy: 0.354143 val accuracy: 0.374000\n",
      "lr 2.000000e-07 reg 3.000000e+04 train accuracy: 0.346837 val accuracy: 0.368000\n",
      "lr 2.000000e-07 reg 5.000000e+04 train accuracy: 0.329531 val accuracy: 0.336000\n",
      "lr 2.000000e-07 reg 6.000000e+04 train accuracy: 0.325429 val accuracy: 0.345000\n",
      "lr 2.000000e-07 reg 7.000000e+04 train accuracy: 0.313755 val accuracy: 0.330000\n",
      "lr 2.000000e-07 reg 8.000000e+04 train accuracy: 0.316796 val accuracy: 0.336000\n",
      "lr 2.000000e-07 reg 1.000000e+05 train accuracy: 0.312347 val accuracy: 0.319000\n",
      "lr 3.000000e-07 reg 1.000000e+04 train accuracy: 0.374449 val accuracy: 0.382000\n",
      "lr 3.000000e-07 reg 2.000000e+04 train accuracy: 0.359408 val accuracy: 0.369000\n",
      "lr 3.000000e-07 reg 3.000000e+04 train accuracy: 0.345551 val accuracy: 0.352000\n",
      "lr 3.000000e-07 reg 5.000000e+04 train accuracy: 0.335714 val accuracy: 0.351000\n",
      "lr 3.000000e-07 reg 6.000000e+04 train accuracy: 0.319959 val accuracy: 0.327000\n",
      "lr 3.000000e-07 reg 7.000000e+04 train accuracy: 0.318816 val accuracy: 0.345000\n",
      "lr 3.000000e-07 reg 8.000000e+04 train accuracy: 0.314245 val accuracy: 0.337000\n",
      "lr 3.000000e-07 reg 1.000000e+05 train accuracy: 0.306245 val accuracy: 0.315000\n",
      "lr 4.000000e-07 reg 1.000000e+04 train accuracy: 0.369673 val accuracy: 0.368000\n",
      "lr 4.000000e-07 reg 2.000000e+04 train accuracy: 0.348898 val accuracy: 0.369000\n",
      "lr 4.000000e-07 reg 3.000000e+04 train accuracy: 0.336510 val accuracy: 0.353000\n",
      "lr 4.000000e-07 reg 5.000000e+04 train accuracy: 0.322959 val accuracy: 0.340000\n",
      "lr 4.000000e-07 reg 6.000000e+04 train accuracy: 0.303102 val accuracy: 0.319000\n",
      "lr 4.000000e-07 reg 7.000000e+04 train accuracy: 0.321163 val accuracy: 0.334000\n",
      "lr 4.000000e-07 reg 8.000000e+04 train accuracy: 0.307633 val accuracy: 0.325000\n",
      "lr 4.000000e-07 reg 1.000000e+05 train accuracy: 0.300531 val accuracy: 0.316000\n",
      "lr 5.000000e-07 reg 1.000000e+04 train accuracy: 0.371837 val accuracy: 0.366000\n",
      "lr 5.000000e-07 reg 2.000000e+04 train accuracy: 0.355898 val accuracy: 0.372000\n",
      "lr 5.000000e-07 reg 3.000000e+04 train accuracy: 0.343245 val accuracy: 0.353000\n",
      "lr 5.000000e-07 reg 5.000000e+04 train accuracy: 0.324367 val accuracy: 0.339000\n",
      "lr 5.000000e-07 reg 6.000000e+04 train accuracy: 0.322204 val accuracy: 0.347000\n",
      "lr 5.000000e-07 reg 7.000000e+04 train accuracy: 0.316959 val accuracy: 0.330000\n",
      "lr 5.000000e-07 reg 8.000000e+04 train accuracy: 0.313122 val accuracy: 0.321000\n",
      "lr 5.000000e-07 reg 1.000000e+05 train accuracy: 0.312612 val accuracy: 0.330000\n",
      "lr 8.000000e-07 reg 1.000000e+04 train accuracy: 0.369510 val accuracy: 0.380000\n",
      "lr 8.000000e-07 reg 2.000000e+04 train accuracy: 0.348449 val accuracy: 0.349000\n",
      "lr 8.000000e-07 reg 3.000000e+04 train accuracy: 0.342673 val accuracy: 0.357000\n",
      "lr 8.000000e-07 reg 5.000000e+04 train accuracy: 0.320388 val accuracy: 0.347000\n",
      "lr 8.000000e-07 reg 6.000000e+04 train accuracy: 0.305388 val accuracy: 0.312000\n",
      "lr 8.000000e-07 reg 7.000000e+04 train accuracy: 0.305245 val accuracy: 0.320000\n",
      "lr 8.000000e-07 reg 8.000000e+04 train accuracy: 0.292163 val accuracy: 0.308000\n",
      "lr 8.000000e-07 reg 1.000000e+05 train accuracy: 0.292367 val accuracy: 0.298000\n",
      "best validation accuracy achieved during cross-validation: 0.382000\n"
     ]
    }
   ],
   "source": [
    "# Use the validation set to tune hyperparameters (regularization strength and\n",
    "# learning rate). You should experiment with different ranges for the learning\n",
    "# rates and regularization strengths; if you are careful you should be able to\n",
    "# get a classification accuracy of over 0.35 on the validation set.\n",
    "from cs231n.classifiers import Softmax\n",
    "results = {}\n",
    "best_val = -1\n",
    "best_softmax = None\n",
    "learning_rates = [1e-7, 2e-7, 3e-7, 4e-7, 5e-7, 8e-7]\n",
    "regularization_strengths = [1e4, 2e4, 3e4, 5e4, 6e4, 7e4, 8e4, 1e5]\n",
    "\n",
    "\n",
    "################################################################################\n",
    "# TODO:                                                                        #\n",
    "# Use the validation set to set the learning rate and regularization strength. #\n",
    "# This should be identical to the validation that you did for the SVM; save    #\n",
    "# the best trained softmax classifer in best_softmax.                          #\n",
    "################################################################################\n",
    "num_iters = 2000\n",
    "for learning_rate in learning_rates:\n",
    "    for reg in regularization_strengths:\n",
    "        softmax = Softmax()\n",
    "        loss_hist = softmax.train(X_train, y_train, learning_rate=learning_rate, reg=reg, \n",
    "                              num_iters=num_iters)\n",
    "        y_train_pred = softmax.predict(X_train)\n",
    "        training_accuracy = np.mean(y_train == y_train_pred)\n",
    "        y_val_pred = softmax.predict(X_val)\n",
    "        validation_accuracy = np.mean(y_val == y_val_pred)\n",
    "        results[(learning_rate, reg)] = (training_accuracy, validation_accuracy)\n",
    "        if validation_accuracy > best_val:\n",
    "            best_softmax = softmax\n",
    "            best_val = validation_accuracy\n",
    "################################################################################\n",
    "#                              END OF YOUR CODE                                #\n",
    "################################################################################\n",
    "    \n",
    "# Print out results.\n",
    "for lr, reg in sorted(results):\n",
    "    train_accuracy, val_accuracy = results[(lr, reg)]\n",
    "    print 'lr %e reg %e train accuracy: %f val accuracy: %f' % (\n",
    "                lr, reg, train_accuracy, val_accuracy)\n",
    "    \n",
    "print 'best validation accuracy achieved during cross-validation: %f' % best_val"
   ]
  },
  {
   "cell_type": "code",
   "execution_count": 13,
   "metadata": {
    "collapsed": false
   },
   "outputs": [
    {
     "name": "stdout",
     "output_type": "stream",
     "text": [
      "softmax on raw pixels final test set accuracy: 0.366000\n"
     ]
    }
   ],
   "source": [
    "# evaluate on test set\n",
    "# Evaluate the best softmax on test set\n",
    "y_test_pred = best_softmax.predict(X_test)\n",
    "test_accuracy = np.mean(y_test == y_test_pred)\n",
    "print 'softmax on raw pixels final test set accuracy: %f' % (test_accuracy, )"
   ]
  },
  {
   "cell_type": "code",
   "execution_count": 14,
   "metadata": {
    "collapsed": false
   },
   "outputs": [
    {
     "data": {
      "image/png": "[encoded data removed]",
      "text/plain": [
       "<matplotlib.figure.Figure at 0x1068fdc90>"
      ]
     },
     "metadata": {},
     "output_type": "display_data"
    }
   ],
   "source": [
    "# Visualize the learned weights for each class\n",
    "w = best_softmax.W[:-1,:] # strip out the bias\n",
    "w = w.reshape(32, 32, 3, 10)\n",
    "\n",
    "w_min, w_max = np.min(w), np.max(w)\n",
    "\n",
    "classes = ['plane', 'car', 'bird', 'cat', 'deer', 'dog', 'frog', 'horse', 'ship', 'truck']\n",
    "for i in xrange(10):\n",
    "  plt.subplot(2, 5, i + 1)\n",
    "  \n",
    "  # Rescale the weights to be between 0 and 255\n",
    "  wimg = 255.0 * (w[:, :, :, i].squeeze() - w_min) / (w_max - w_min)\n",
    "  plt.imshow(wimg.astype('uint8'))\n",
    "  plt.axis('off')\n",
    "  plt.title(classes[i])"
   ]
  },
  {
   "cell_type": "code",
   "execution_count": null,
   "metadata": {
    "collapsed": true
   },
   "outputs": [],
   "source": []
  }
 ],
 "metadata": {
  "kernelspec": {
   "display_name": "Python 2",
   "language": "python",
   "name": "python2"
  },
  "language_info": {
   "codemirror_mode": {
    "name": "ipython",
    "version": 2
   },
   "file_extension": ".py",
   "mimetype": "text/x-python",
   "name": "python",
   "nbconvert_exporter": "python",
   "pygments_lexer": "ipython2",
   "version": "2.7.10"
  }
 },
 "nbformat": 4,
 "nbformat_minor": 0
}
